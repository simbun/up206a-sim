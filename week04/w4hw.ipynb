{
 "cells": [
  {
   "cell_type": "markdown",
   "id": "a3ce1d4b-1497-4f8c-aa57-61452cf5bf85",
   "metadata": {},
   "source": [
    "# Week 4 Individual Coding Assignment \n",
    "For this assignment, I will be working with a dataset from the [Federal Housing Finance Agency](https://www.fhfa.gov/DataTools/Downloads/Pages/House-Price-Index-Datasets.aspx) FHFA website. The data is of the Annual House Price Indexes for census tracts. I've done some data exploration for the dataset from the FHFA website for week one's assignment, but for this week's assignment I filtered the dataset in Excel for Los Angeles County for the years 2010 and 2019. I also calculated the percent change in Excel.\n",
    "\n",
    "I am using this week's opportunity to further the research for the group project Ariana and I are working on. I am nervous because the data is in the form of a csv does not have longitude or latitude. It does not have a `geometry` column either. The csv file only has census tract in the form of 10 digit geoid."
   ]
  },
  {
   "cell_type": "code",
   "execution_count": 25,
   "id": "2418bd35-21be-4044-ba9c-94bcd31d6478",
   "metadata": {},
   "outputs": [],
   "source": [
    "# for general data wrangling tasks\n",
    "import pandas as pd\n",
    "\n",
    "# for spatial data\n",
    "import geopandas as gpd\n",
    "\n",
    "# for plotting\n",
    "import matplotlib.pyplot as plt\n",
    "\n",
    "# for network analysis\n",
    "import networkx as nx\n",
    "\n",
    "# for street network analysis\n",
    "import osmnx as ox\n",
    "\n",
    "# for basemaps\n",
    "import contextily as ctx"
   ]
  },
  {
   "cell_type": "markdown",
   "id": "761f4378-fe7e-4b59-b185-bf5bf3ce150b",
   "metadata": {},
   "source": [
    "Now, I am importing the dataset, using panda tool, pd.read_(\"file type\"). For this assignment, I used a csv file named **FHFA_HPI_Fixed**. For some reason, I cannot import csv files using gpd so I have been using pd. Is it because a csv files is not spatial data?"
   ]
  },
  {
   "cell_type": "code",
   "execution_count": 26,
   "id": "6a2468fd-8ae8-4045-8460-ea4abf78ecad",
   "metadata": {},
   "outputs": [],
   "source": [
    "# read csv files and add to notebook\n",
    "fhfa = pd.read_csv(\"FHFA_HPI_Fixed.csv\")"
   ]
  },
  {
   "cell_type": "markdown",
   "id": "16cec215-5d8f-4265-bc09-0d4c46c9631c",
   "metadata": {},
   "source": [
    "# Data Exploration\n",
    "\n",
    "I will be doing simple data exploration functions. "
   ]
  },
  {
   "cell_type": "code",
   "execution_count": 27,
   "id": "b8141dbc-2021-4d7c-9bcd-22a537fffc3f",
   "metadata": {},
   "outputs": [
    {
     "data": {
      "text/plain": [
       "pandas.core.frame.DataFrame"
      ]
     },
     "execution_count": 27,
     "metadata": {},
     "output_type": "execute_result"
    }
   ],
   "source": [
    "# what's the data type?\n",
    "type(fhfa)"
   ]
  },
  {
   "cell_type": "code",
   "execution_count": 28,
   "id": "175270e0-0b18-4aa3-ad6e-2862d420f280",
   "metadata": {},
   "outputs": [
    {
     "data": {
      "text/plain": [
       "tract (LA County, CA)      int64\n",
       "hpi 2010                 float64\n",
       "hpi 2019                 float64\n",
       "% change                 float64\n",
       "dtype: object"
      ]
     },
     "execution_count": 28,
     "metadata": {},
     "output_type": "execute_result"
    }
   ],
   "source": [
    "# what type of data is in the dataframe?\n",
    "fhfa.dtypes"
   ]
  },
  {
   "cell_type": "markdown",
   "id": "5b8b900e-0092-477f-a8a5-83f1af8d8e18",
   "metadata": {},
   "source": [
    "There is *one* objects (in other words \"strings\"), *one* interger, and *two* floats. Then I use `info()` to find out more information about the dataframe. "
   ]
  },
  {
   "cell_type": "code",
   "execution_count": 29,
   "id": "8bb8c0e5-09cd-4b9f-a7f4-56a357b43f0b",
   "metadata": {},
   "outputs": [
    {
     "name": "stdout",
     "output_type": "stream",
     "text": [
      "<class 'pandas.core.frame.DataFrame'>\n",
      "RangeIndex: 1640 entries, 0 to 1639\n",
      "Data columns (total 4 columns):\n",
      " #   Column                 Non-Null Count  Dtype  \n",
      "---  ------                 --------------  -----  \n",
      " 0   tract (LA County, CA)  1640 non-null   int64  \n",
      " 1   hpi 2010               1640 non-null   float64\n",
      " 2   hpi 2019               1640 non-null   float64\n",
      " 3   % change               1640 non-null   float64\n",
      "dtypes: float64(3), int64(1)\n",
      "memory usage: 51.4 KB\n"
     ]
    }
   ],
   "source": [
    "fhfa.info()"
   ]
  },
  {
   "cell_type": "code",
   "execution_count": 30,
   "id": "b1f8aba6-bdad-49ac-8f74-4ab90b4c8917",
   "metadata": {},
   "outputs": [
    {
     "name": "stdout",
     "output_type": "stream",
     "text": [
      "<class 'pandas.core.frame.DataFrame'>\n",
      "RangeIndex: 1640 entries, 0 to 1639\n",
      "Data columns (total 4 columns):\n",
      " #   Column                 Non-Null Count  Dtype  \n",
      "---  ------                 --------------  -----  \n",
      " 0   tract (LA County, CA)  1640 non-null   int64  \n",
      " 1   hpi 2010               1640 non-null   float64\n",
      " 2   hpi 2019               1640 non-null   float64\n",
      " 3   % change               1640 non-null   float64\n",
      "dtypes: float64(3), int64(1)\n",
      "memory usage: 51.4 KB\n"
     ]
    }
   ],
   "source": [
    "# I have to convert '% change' from object to float so I can map it.\n",
    "fhfa['% change'] = fhfa['% change'].astype(float)\n",
    "fhfa.info()"
   ]
  },
  {
   "cell_type": "markdown",
   "id": "6d85e140-a52e-4b80-b903-5cb052b81211",
   "metadata": {},
   "source": [
    "# Reuploading Data\n",
    "\n",
    "I actually had to reupload the csv file by changing the data in the '% change' column in Excel from percentage to general number format. Now the % change data is in decimal form. I had to do this because I kept getting an error message when I tried to convert the data using the code in the cell above. I chose to include the code above to document my process. "
   ]
  },
  {
   "cell_type": "code",
   "execution_count": 31,
   "id": "e0cebb58-515a-4dca-8ea7-03d43ad99a82",
   "metadata": {},
   "outputs": [
    {
     "data": {
      "text/html": [
       "<div>\n",
       "<style scoped>\n",
       "    .dataframe tbody tr th:only-of-type {\n",
       "        vertical-align: middle;\n",
       "    }\n",
       "\n",
       "    .dataframe tbody tr th {\n",
       "        vertical-align: top;\n",
       "    }\n",
       "\n",
       "    .dataframe thead th {\n",
       "        text-align: right;\n",
       "    }\n",
       "</style>\n",
       "<table border=\"1\" class=\"dataframe\">\n",
       "  <thead>\n",
       "    <tr style=\"text-align: right;\">\n",
       "      <th></th>\n",
       "      <th>tract (LA County, CA)</th>\n",
       "      <th>hpi 2010</th>\n",
       "      <th>hpi 2019</th>\n",
       "      <th>% change</th>\n",
       "    </tr>\n",
       "  </thead>\n",
       "  <tbody>\n",
       "    <tr>\n",
       "      <th>0</th>\n",
       "      <td>6037101110</td>\n",
       "      <td>505.95</td>\n",
       "      <td>934.82</td>\n",
       "      <td>0.85</td>\n",
       "    </tr>\n",
       "    <tr>\n",
       "      <th>1</th>\n",
       "      <td>6037101122</td>\n",
       "      <td>529.61</td>\n",
       "      <td>930.17</td>\n",
       "      <td>0.76</td>\n",
       "    </tr>\n",
       "    <tr>\n",
       "      <th>2</th>\n",
       "      <td>6037101210</td>\n",
       "      <td>212.75</td>\n",
       "      <td>358.07</td>\n",
       "      <td>0.68</td>\n",
       "    </tr>\n",
       "    <tr>\n",
       "      <th>3</th>\n",
       "      <td>6037101220</td>\n",
       "      <td>289.52</td>\n",
       "      <td>591.62</td>\n",
       "      <td>1.04</td>\n",
       "    </tr>\n",
       "    <tr>\n",
       "      <th>4</th>\n",
       "      <td>6037101300</td>\n",
       "      <td>481.90</td>\n",
       "      <td>832.05</td>\n",
       "      <td>0.73</td>\n",
       "    </tr>\n",
       "  </tbody>\n",
       "</table>\n",
       "</div>"
      ],
      "text/plain": [
       "   tract (LA County, CA)  hpi 2010  hpi 2019  % change\n",
       "0             6037101110    505.95    934.82      0.85\n",
       "1             6037101122    529.61    930.17      0.76\n",
       "2             6037101210    212.75    358.07      0.68\n",
       "3             6037101220    289.52    591.62      1.04\n",
       "4             6037101300    481.90    832.05      0.73"
      ]
     },
     "execution_count": 31,
     "metadata": {},
     "output_type": "execute_result"
    }
   ],
   "source": [
    "fhfa.head()"
   ]
  },
  {
   "cell_type": "code",
   "execution_count": 32,
   "id": "9731f1a9-6a17-4f41-8f60-fee11a2d8d8f",
   "metadata": {},
   "outputs": [
    {
     "data": {
      "text/html": [
       "<div>\n",
       "<style scoped>\n",
       "    .dataframe tbody tr th:only-of-type {\n",
       "        vertical-align: middle;\n",
       "    }\n",
       "\n",
       "    .dataframe tbody tr th {\n",
       "        vertical-align: top;\n",
       "    }\n",
       "\n",
       "    .dataframe thead th {\n",
       "        text-align: right;\n",
       "    }\n",
       "</style>\n",
       "<table border=\"1\" class=\"dataframe\">\n",
       "  <thead>\n",
       "    <tr style=\"text-align: right;\">\n",
       "      <th></th>\n",
       "      <th>tract (LA County, CA)</th>\n",
       "      <th>hpi 2010</th>\n",
       "      <th>hpi 2019</th>\n",
       "      <th>% change</th>\n",
       "    </tr>\n",
       "  </thead>\n",
       "  <tbody>\n",
       "    <tr>\n",
       "      <th>1635</th>\n",
       "      <td>6037920331</td>\n",
       "      <td>528.12</td>\n",
       "      <td>775.22</td>\n",
       "      <td>0.47</td>\n",
       "    </tr>\n",
       "    <tr>\n",
       "      <th>1636</th>\n",
       "      <td>6037920332</td>\n",
       "      <td>277.51</td>\n",
       "      <td>400.82</td>\n",
       "      <td>0.44</td>\n",
       "    </tr>\n",
       "    <tr>\n",
       "      <th>1637</th>\n",
       "      <td>6037920334</td>\n",
       "      <td>591.00</td>\n",
       "      <td>862.30</td>\n",
       "      <td>0.46</td>\n",
       "    </tr>\n",
       "    <tr>\n",
       "      <th>1638</th>\n",
       "      <td>6037920336</td>\n",
       "      <td>250.63</td>\n",
       "      <td>385.23</td>\n",
       "      <td>0.54</td>\n",
       "    </tr>\n",
       "    <tr>\n",
       "      <th>1639</th>\n",
       "      <td>6037920338</td>\n",
       "      <td>174.88</td>\n",
       "      <td>230.58</td>\n",
       "      <td>0.32</td>\n",
       "    </tr>\n",
       "  </tbody>\n",
       "</table>\n",
       "</div>"
      ],
      "text/plain": [
       "      tract (LA County, CA)  hpi 2010  hpi 2019  % change\n",
       "1635             6037920331    528.12    775.22      0.47\n",
       "1636             6037920332    277.51    400.82      0.44\n",
       "1637             6037920334    591.00    862.30      0.46\n",
       "1638             6037920336    250.63    385.23      0.54\n",
       "1639             6037920338    174.88    230.58      0.32"
      ]
     },
     "execution_count": 32,
     "metadata": {},
     "output_type": "execute_result"
    }
   ],
   "source": [
    "fhfa.tail()"
   ]
  },
  {
   "cell_type": "code",
   "execution_count": 33,
   "id": "c87a8d6c-525f-428e-8a93-354323521cb6",
   "metadata": {},
   "outputs": [
    {
     "data": {
      "text/plain": [
       "(1640, 4)"
      ]
     },
     "execution_count": 33,
     "metadata": {},
     "output_type": "execute_result"
    }
   ],
   "source": [
    "# how many rows and columns?\n",
    "fhfa.shape"
   ]
  },
  {
   "cell_type": "code",
   "execution_count": 34,
   "id": "fb390a12-8b22-4b82-b762-19188175529c",
   "metadata": {},
   "outputs": [
    {
     "data": {
      "text/plain": [
       "['tract (LA County, CA)', 'hpi 2010', 'hpi 2019', '% change']"
      ]
     },
     "execution_count": 34,
     "metadata": {},
     "output_type": "execute_result"
    }
   ],
   "source": [
    "# what are the columns, using the `to_list()` function?\n",
    "fhfa.columns.to_list()"
   ]
  },
  {
   "cell_type": "code",
   "execution_count": 35,
   "id": "7c8f8d8f-36f6-43c6-b46c-508a6c7e9567",
   "metadata": {},
   "outputs": [
    {
     "data": {
      "text/plain": [
       "0.48    35\n",
       "0.60    34\n",
       "0.59    34\n",
       "0.45    32\n",
       "0.50    31\n",
       "        ..\n",
       "1.58     1\n",
       "0.08     1\n",
       "1.32     1\n",
       "0.22     1\n",
       "1.57     1\n",
       "Name: % change, Length: 154, dtype: int64"
      ]
     },
     "execution_count": 35,
     "metadata": {},
     "output_type": "execute_result"
    }
   ],
   "source": [
    "# I want to see how many times a percentage change occurred.\n",
    "fhfa['% change'].value_counts()"
   ]
  },
  {
   "cell_type": "code",
   "execution_count": 36,
   "id": "b6999eaf-aee8-4c89-86c4-16fb3b914357",
   "metadata": {},
   "outputs": [
    {
     "data": {
      "text/plain": [
       "0.48    35\n",
       "0.60    34\n",
       "0.59    34\n",
       "0.45    32\n",
       "0.50    31\n",
       "        ..\n",
       "1.58     1\n",
       "0.08     1\n",
       "1.32     1\n",
       "0.22     1\n",
       "1.57     1\n",
       "Name: % change, Length: 154, dtype: int64"
      ]
     },
     "execution_count": 36,
     "metadata": {},
     "output_type": "execute_result"
    }
   ],
   "source": [
    "# save \"p_change_count\" as a variable so I can use it later\n",
    "p_change_count=fhfa['% change'].value_counts()\n",
    "p_change_count"
   ]
  },
  {
   "cell_type": "code",
   "execution_count": 37,
   "id": "d9dd0616-20b4-404e-bcf3-efe97a89dc24",
   "metadata": {},
   "outputs": [
    {
     "data": {
      "text/plain": [
       "pandas.core.series.Series"
      ]
     },
     "execution_count": 37,
     "metadata": {},
     "output_type": "execute_result"
    }
   ],
   "source": [
    "# what type of data is state_count?\n",
    "type (p_change_count)"
   ]
  },
  {
   "cell_type": "code",
   "execution_count": 38,
   "id": "468de035-7dce-4e2e-8b0f-641106487a6d",
   "metadata": {},
   "outputs": [
    {
     "data": {
      "text/html": [
       "<div>\n",
       "<style scoped>\n",
       "    .dataframe tbody tr th:only-of-type {\n",
       "        vertical-align: middle;\n",
       "    }\n",
       "\n",
       "    .dataframe tbody tr th {\n",
       "        vertical-align: top;\n",
       "    }\n",
       "\n",
       "    .dataframe thead th {\n",
       "        text-align: right;\n",
       "    }\n",
       "</style>\n",
       "<table border=\"1\" class=\"dataframe\">\n",
       "  <thead>\n",
       "    <tr style=\"text-align: right;\">\n",
       "      <th></th>\n",
       "      <th>index</th>\n",
       "      <th>% change</th>\n",
       "    </tr>\n",
       "  </thead>\n",
       "  <tbody>\n",
       "    <tr>\n",
       "      <th>0</th>\n",
       "      <td>0.48</td>\n",
       "      <td>35</td>\n",
       "    </tr>\n",
       "    <tr>\n",
       "      <th>1</th>\n",
       "      <td>0.60</td>\n",
       "      <td>34</td>\n",
       "    </tr>\n",
       "    <tr>\n",
       "      <th>2</th>\n",
       "      <td>0.59</td>\n",
       "      <td>34</td>\n",
       "    </tr>\n",
       "    <tr>\n",
       "      <th>3</th>\n",
       "      <td>0.45</td>\n",
       "      <td>32</td>\n",
       "    </tr>\n",
       "    <tr>\n",
       "      <th>4</th>\n",
       "      <td>0.50</td>\n",
       "      <td>31</td>\n",
       "    </tr>\n",
       "    <tr>\n",
       "      <th>...</th>\n",
       "      <td>...</td>\n",
       "      <td>...</td>\n",
       "    </tr>\n",
       "    <tr>\n",
       "      <th>149</th>\n",
       "      <td>1.58</td>\n",
       "      <td>1</td>\n",
       "    </tr>\n",
       "    <tr>\n",
       "      <th>150</th>\n",
       "      <td>0.08</td>\n",
       "      <td>1</td>\n",
       "    </tr>\n",
       "    <tr>\n",
       "      <th>151</th>\n",
       "      <td>1.32</td>\n",
       "      <td>1</td>\n",
       "    </tr>\n",
       "    <tr>\n",
       "      <th>152</th>\n",
       "      <td>0.22</td>\n",
       "      <td>1</td>\n",
       "    </tr>\n",
       "    <tr>\n",
       "      <th>153</th>\n",
       "      <td>1.57</td>\n",
       "      <td>1</td>\n",
       "    </tr>\n",
       "  </tbody>\n",
       "</table>\n",
       "<p>154 rows × 2 columns</p>\n",
       "</div>"
      ],
      "text/plain": [
       "     index  % change\n",
       "0     0.48        35\n",
       "1     0.60        34\n",
       "2     0.59        34\n",
       "3     0.45        32\n",
       "4     0.50        31\n",
       "..     ...       ...\n",
       "149   1.58         1\n",
       "150   0.08         1\n",
       "151   1.32         1\n",
       "152   0.22         1\n",
       "153   1.57         1\n",
       "\n",
       "[154 rows x 2 columns]"
      ]
     },
     "execution_count": 38,
     "metadata": {},
     "output_type": "execute_result"
    }
   ],
   "source": [
    "# convert series into a dataframe so it is easier to read as there are column names and such\n",
    "p_change_count = p_change_count.reset_index()\n",
    "p_change_count"
   ]
  },
  {
   "cell_type": "code",
   "execution_count": 39,
   "id": "9eb6ad5e-8ec9-49f5-acb4-2652317b9f16",
   "metadata": {},
   "outputs": [
    {
     "data": {
      "text/plain": [
       "['index', '% change']"
      ]
     },
     "execution_count": 39,
     "metadata": {},
     "output_type": "execute_result"
    }
   ],
   "source": [
    "# output exisiting columns as a list\n",
    "list(p_change_count)"
   ]
  },
  {
   "cell_type": "code",
   "execution_count": 40,
   "id": "52ba6952-bb96-4ccb-a34c-40f99339bb2a",
   "metadata": {},
   "outputs": [],
   "source": [
    "# I will be renaming the columns \n",
    "p_change_count.columns = ['% change', 'count']"
   ]
  },
  {
   "cell_type": "code",
   "execution_count": 41,
   "id": "92f69594-2038-4cff-a8ca-eb8c0d787c97",
   "metadata": {},
   "outputs": [
    {
     "data": {
      "text/html": [
       "<div>\n",
       "<style scoped>\n",
       "    .dataframe tbody tr th:only-of-type {\n",
       "        vertical-align: middle;\n",
       "    }\n",
       "\n",
       "    .dataframe tbody tr th {\n",
       "        vertical-align: top;\n",
       "    }\n",
       "\n",
       "    .dataframe thead th {\n",
       "        text-align: right;\n",
       "    }\n",
       "</style>\n",
       "<table border=\"1\" class=\"dataframe\">\n",
       "  <thead>\n",
       "    <tr style=\"text-align: right;\">\n",
       "      <th></th>\n",
       "      <th>% change</th>\n",
       "      <th>count</th>\n",
       "    </tr>\n",
       "  </thead>\n",
       "  <tbody>\n",
       "    <tr>\n",
       "      <th>0</th>\n",
       "      <td>0.48</td>\n",
       "      <td>35</td>\n",
       "    </tr>\n",
       "    <tr>\n",
       "      <th>1</th>\n",
       "      <td>0.60</td>\n",
       "      <td>34</td>\n",
       "    </tr>\n",
       "    <tr>\n",
       "      <th>2</th>\n",
       "      <td>0.59</td>\n",
       "      <td>34</td>\n",
       "    </tr>\n",
       "    <tr>\n",
       "      <th>3</th>\n",
       "      <td>0.45</td>\n",
       "      <td>32</td>\n",
       "    </tr>\n",
       "    <tr>\n",
       "      <th>4</th>\n",
       "      <td>0.50</td>\n",
       "      <td>31</td>\n",
       "    </tr>\n",
       "  </tbody>\n",
       "</table>\n",
       "</div>"
      ],
      "text/plain": [
       "   % change  count\n",
       "0      0.48     35\n",
       "1      0.60     34\n",
       "2      0.59     34\n",
       "3      0.45     32\n",
       "4      0.50     31"
      ]
     },
     "execution_count": 41,
     "metadata": {},
     "output_type": "execute_result"
    }
   ],
   "source": [
    "# to see if the redefinition worked\n",
    "p_change_count.head()"
   ]
  },
  {
   "cell_type": "code",
   "execution_count": 42,
   "id": "517b9b2a-a37a-401c-b3ca-4d28379b4e81",
   "metadata": {},
   "outputs": [
    {
     "data": {
      "text/plain": [
       "pandas.core.frame.DataFrame"
      ]
     },
     "execution_count": 42,
     "metadata": {},
     "output_type": "execute_result"
    }
   ],
   "source": [
    "# to double check if the `reset_index` function worked\n",
    "type(p_change_count)"
   ]
  },
  {
   "cell_type": "code",
   "execution_count": 43,
   "id": "91586779-cc11-431f-ace8-642ad0fe1213",
   "metadata": {},
   "outputs": [
    {
     "data": {
      "text/plain": [
       "<AxesSubplot:title={'center':'Frequency of % Change of the Housing Price Index'}, xlabel='% change', ylabel='count'>"
      ]
     },
     "execution_count": 43,
     "metadata": {},
     "output_type": "execute_result"
    },
    {
     "data": {
      "image/png": "[encoded data removed]",
      "text/plain": [
       "<Figure size 432x288 with 1 Axes>"
      ]
     },
     "metadata": {
      "needs_background": "light"
     },
     "output_type": "display_data"
    }
   ],
   "source": [
    "# ploting the dataframe\n",
    "p_change_count.plot.scatter (x='% change', y='count', title= 'Frequency of % Change of the Housing Price Index') "
   ]
  },
  {
   "cell_type": "markdown",
   "id": "493d0575-eceb-49d7-a9c6-c11d5bf047e7",
   "metadata": {},
   "source": [
    "## Checking my work\n",
    "\n",
    "I am starting to feel worried because the data is plotting strangely. I will be sorting the data by largest to smallest. Then I will pick the '% change' that is the most frequent and the least frequent. "
   ]
  },
  {
   "cell_type": "code",
   "execution_count": 44,
   "id": "a5b69e8c-849e-4a79-9dec-8419abadaa1d",
   "metadata": {},
   "outputs": [],
   "source": [
    "# here, I am sorting the data by largest to smallest.\n",
    "p_change_count = p_change_count.sort_values(by='count',ascending= False)"
   ]
  },
  {
   "cell_type": "code",
   "execution_count": 45,
   "id": "f9950f10-21c3-4b4b-936d-1b111772162c",
   "metadata": {},
   "outputs": [
    {
     "data": {
      "text/html": [
       "<div>\n",
       "<style scoped>\n",
       "    .dataframe tbody tr th:only-of-type {\n",
       "        vertical-align: middle;\n",
       "    }\n",
       "\n",
       "    .dataframe tbody tr th {\n",
       "        vertical-align: top;\n",
       "    }\n",
       "\n",
       "    .dataframe thead th {\n",
       "        text-align: right;\n",
       "    }\n",
       "</style>\n",
       "<table border=\"1\" class=\"dataframe\">\n",
       "  <thead>\n",
       "    <tr style=\"text-align: right;\">\n",
       "      <th></th>\n",
       "      <th>% change</th>\n",
       "      <th>count</th>\n",
       "    </tr>\n",
       "  </thead>\n",
       "  <tbody>\n",
       "    <tr>\n",
       "      <th>0</th>\n",
       "      <td>0.48</td>\n",
       "      <td>35</td>\n",
       "    </tr>\n",
       "    <tr>\n",
       "      <th>2</th>\n",
       "      <td>0.59</td>\n",
       "      <td>34</td>\n",
       "    </tr>\n",
       "    <tr>\n",
       "      <th>1</th>\n",
       "      <td>0.60</td>\n",
       "      <td>34</td>\n",
       "    </tr>\n",
       "    <tr>\n",
       "      <th>3</th>\n",
       "      <td>0.45</td>\n",
       "      <td>32</td>\n",
       "    </tr>\n",
       "    <tr>\n",
       "      <th>4</th>\n",
       "      <td>0.50</td>\n",
       "      <td>31</td>\n",
       "    </tr>\n",
       "  </tbody>\n",
       "</table>\n",
       "</div>"
      ],
      "text/plain": [
       "   % change  count\n",
       "0      0.48     35\n",
       "2      0.59     34\n",
       "1      0.60     34\n",
       "3      0.45     32\n",
       "4      0.50     31"
      ]
     },
     "execution_count": 45,
     "metadata": {},
     "output_type": "execute_result"
    }
   ],
   "source": [
    "# i have chosen to pull up the first 5 rows of the '% change' and 'count' columns. These are the top 5 % changes that happened the most. \n",
    "p_change_count[['% change','count']].head(5)"
   ]
  },
  {
   "cell_type": "code",
   "execution_count": 46,
   "id": "c0a38f24-a55d-4ebc-ae4c-cf533019b286",
   "metadata": {},
   "outputs": [
    {
     "data": {
      "text/html": [
       "<div>\n",
       "<style scoped>\n",
       "    .dataframe tbody tr th:only-of-type {\n",
       "        vertical-align: middle;\n",
       "    }\n",
       "\n",
       "    .dataframe tbody tr th {\n",
       "        vertical-align: top;\n",
       "    }\n",
       "\n",
       "    .dataframe thead th {\n",
       "        text-align: right;\n",
       "    }\n",
       "</style>\n",
       "<table border=\"1\" class=\"dataframe\">\n",
       "  <thead>\n",
       "    <tr style=\"text-align: right;\">\n",
       "      <th></th>\n",
       "      <th>% change</th>\n",
       "      <th>count</th>\n",
       "    </tr>\n",
       "  </thead>\n",
       "  <tbody>\n",
       "    <tr>\n",
       "      <th>132</th>\n",
       "      <td>1.67</td>\n",
       "      <td>1</td>\n",
       "    </tr>\n",
       "    <tr>\n",
       "      <th>131</th>\n",
       "      <td>1.79</td>\n",
       "      <td>1</td>\n",
       "    </tr>\n",
       "    <tr>\n",
       "      <th>130</th>\n",
       "      <td>0.18</td>\n",
       "      <td>1</td>\n",
       "    </tr>\n",
       "    <tr>\n",
       "      <th>129</th>\n",
       "      <td>2.00</td>\n",
       "      <td>1</td>\n",
       "    </tr>\n",
       "    <tr>\n",
       "      <th>153</th>\n",
       "      <td>1.57</td>\n",
       "      <td>1</td>\n",
       "    </tr>\n",
       "  </tbody>\n",
       "</table>\n",
       "</div>"
      ],
      "text/plain": [
       "     % change  count\n",
       "132      1.67      1\n",
       "131      1.79      1\n",
       "130      0.18      1\n",
       "129      2.00      1\n",
       "153      1.57      1"
      ]
     },
     "execution_count": 46,
     "metadata": {},
     "output_type": "execute_result"
    }
   ],
   "source": [
    "# i have chosen to pull up the last 5 rows of the '% change' and 'count' columns. These are the bottom 5 % changes that are less frequent. \n",
    "p_change_count[['% change','count']].tail(5)"
   ]
  },
  {
   "cell_type": "code",
   "execution_count": 47,
   "id": "b7face53-fcd0-406f-b2b0-8c56ad263609",
   "metadata": {},
   "outputs": [],
   "source": [
    "# here, I am sorting the '% change' by smallest to largest\n",
    "p_change_count = p_change_count.sort_values(by='% change',ascending= True)"
   ]
  },
  {
   "cell_type": "code",
   "execution_count": 48,
   "id": "3bb2b668-c58b-4fe3-8ef9-2ecadee39d11",
   "metadata": {},
   "outputs": [
    {
     "data": {
      "text/html": [
       "<div>\n",
       "<style scoped>\n",
       "    .dataframe tbody tr th:only-of-type {\n",
       "        vertical-align: middle;\n",
       "    }\n",
       "\n",
       "    .dataframe tbody tr th {\n",
       "        vertical-align: top;\n",
       "    }\n",
       "\n",
       "    .dataframe thead th {\n",
       "        text-align: right;\n",
       "    }\n",
       "</style>\n",
       "<table border=\"1\" class=\"dataframe\">\n",
       "  <thead>\n",
       "    <tr style=\"text-align: right;\">\n",
       "      <th></th>\n",
       "      <th>% change</th>\n",
       "      <th>count</th>\n",
       "    </tr>\n",
       "  </thead>\n",
       "  <tbody>\n",
       "    <tr>\n",
       "      <th>136</th>\n",
       "      <td>-0.01</td>\n",
       "      <td>1</td>\n",
       "    </tr>\n",
       "    <tr>\n",
       "      <th>150</th>\n",
       "      <td>0.08</td>\n",
       "      <td>1</td>\n",
       "    </tr>\n",
       "    <tr>\n",
       "      <th>130</th>\n",
       "      <td>0.18</td>\n",
       "      <td>1</td>\n",
       "    </tr>\n",
       "    <tr>\n",
       "      <th>141</th>\n",
       "      <td>0.19</td>\n",
       "      <td>1</td>\n",
       "    </tr>\n",
       "    <tr>\n",
       "      <th>152</th>\n",
       "      <td>0.22</td>\n",
       "      <td>1</td>\n",
       "    </tr>\n",
       "    <tr>\n",
       "      <th>121</th>\n",
       "      <td>0.24</td>\n",
       "      <td>2</td>\n",
       "    </tr>\n",
       "    <tr>\n",
       "      <th>116</th>\n",
       "      <td>0.26</td>\n",
       "      <td>2</td>\n",
       "    </tr>\n",
       "    <tr>\n",
       "      <th>120</th>\n",
       "      <td>0.27</td>\n",
       "      <td>2</td>\n",
       "    </tr>\n",
       "    <tr>\n",
       "      <th>115</th>\n",
       "      <td>0.28</td>\n",
       "      <td>2</td>\n",
       "    </tr>\n",
       "    <tr>\n",
       "      <th>95</th>\n",
       "      <td>0.29</td>\n",
       "      <td>4</td>\n",
       "    </tr>\n",
       "  </tbody>\n",
       "</table>\n",
       "</div>"
      ],
      "text/plain": [
       "     % change  count\n",
       "136     -0.01      1\n",
       "150      0.08      1\n",
       "130      0.18      1\n",
       "141      0.19      1\n",
       "152      0.22      1\n",
       "121      0.24      2\n",
       "116      0.26      2\n",
       "120      0.27      2\n",
       "115      0.28      2\n",
       "95       0.29      4"
      ]
     },
     "execution_count": 48,
     "metadata": {},
     "output_type": "execute_result"
    }
   ],
   "source": [
    "# i have chosen to pull up the first 10 rows of the '% change' and 'count' columns. These are the top 5 % changes that should be the smallest.\n",
    "p_change_count[['% change','count']].head(10)"
   ]
  },
  {
   "cell_type": "markdown",
   "id": "2f969c5e-0fa2-46dc-9c4b-0e0d1d9fbac2",
   "metadata": {},
   "source": [
    "### So I have restarted the kernel for this one notebook so many times.\n",
    "\n",
    "I think what was really messing up my data was having the number format for '% change' be in percent form with the percentage symbol. Once I reuploaded the data, changing the percent format to a general number format, it really _changed_ my life.\n",
    "\n",
    "My next step is to be able to map the data, but I will need some guidance at office hours. "
   ]
  }
 ],
 "metadata": {
  "kernelspec": {
   "display_name": "Python 3 (ipykernel)",
   "language": "python",
   "name": "python3"
  },
  "language_info": {
   "codemirror_mode": {
    "name": "ipython",
    "version": 3
   },
   "file_extension": ".py",
   "mimetype": "text/x-python",
   "name": "python",
   "nbconvert_exporter": "python",
   "pygments_lexer": "ipython3",
   "version": "3.9.6"
  }
 },
 "nbformat": 4,
 "nbformat_minor": 5
}
